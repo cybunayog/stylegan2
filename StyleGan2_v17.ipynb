{
  "nbformat": 4,
  "nbformat_minor": 0,
  "metadata": {
    "colab": {
      "name": "StyleGan2 v17.ipynb",
      "provenance": [],
      "collapsed_sections": [],
      "machine_shape": "hm",
      "include_colab_link": true
    },
    "kernelspec": {
      "name": "python3",
      "display_name": "Python 3"
    },
    "language_info": {
      "name": "python"
    },
    "accelerator": "GPU"
  },
  "cells": [
    {
      "cell_type": "markdown",
      "metadata": {
        "id": "view-in-github",
        "colab_type": "text"
      },
      "source": [
        "<a href=\"https://colab.research.google.com/github/cybunayog/stylegan2/blob/master/StyleGan2_v17.ipynb\" target=\"_parent\"><img src=\"https://colab.research.google.com/assets/colab-badge.svg\" alt=\"Open In Colab\"/></a>"
      ]
    },
    {
      "cell_type": "markdown",
      "metadata": {
        "id": "MBKf-3zmhmac"
      },
      "source": [
        "# Prep\n",
        "## Save dataset into Drive"
      ]
    },
    {
      "cell_type": "code",
      "metadata": {
        "id": "IZVHet9ohurB",
        "colab": {
          "base_uri": "https://localhost:8080/"
        },
        "outputId": "49195c67-2820-430b-ae2a-93700b06d236"
      },
      "source": [
        "from google.colab import drive\n",
        "drive.mount('/content/drive', force_remount=True)"
      ],
      "execution_count": null,
      "outputs": [
        {
          "output_type": "stream",
          "text": [
            "Mounted at /content/drive\n"
          ],
          "name": "stdout"
        }
      ]
    },
    {
      "cell_type": "markdown",
      "metadata": {
        "id": "oB8mh9P_yhOF"
      },
      "source": [
        "## Clone Repo and install resize module"
      ]
    },
    {
      "cell_type": "code",
      "metadata": {
        "id": "JPSs3GuQymEs",
        "colab": {
          "base_uri": "https://localhost:8080/"
        },
        "outputId": "c0b1fdc7-7d6f-47d3-fe59-e770c87adcba"
      },
      "source": [
        "# Clone the repo (DO THIS ONCE)\n",
        "!git clone https://github.com/cybunayog/stylegan2.git\n",
        "\n",
        "# Install python-resize-image (RUN ONCE AND COMMENT)\n",
        "!pip install python-resize-image"
      ],
      "execution_count": null,
      "outputs": [
        {
          "output_type": "stream",
          "text": [
            "Cloning into 'stylegan2'...\n",
            "remote: Enumerating objects: 133, done.\u001b[K\n",
            "remote: Counting objects: 100% (6/6), done.\u001b[K\n",
            "remote: Compressing objects: 100% (6/6), done.\u001b[K\n",
            "remote: Total 133 (delta 1), reused 0 (delta 0), pack-reused 127\u001b[K\n",
            "Receiving objects: 100% (133/133), 637.25 KiB | 1.54 MiB/s, done.\n",
            "Resolving deltas: 100% (59/59), done.\n",
            "Requirement already satisfied: python-resize-image in /usr/local/lib/python3.7/dist-packages (1.1.19)\n",
            "Requirement already satisfied: Pillow>=5.1.0 in /usr/local/lib/python3.7/dist-packages (from python-resize-image) (7.1.2)\n",
            "Requirement already satisfied: requests>=2.19.1 in /usr/local/lib/python3.7/dist-packages (from python-resize-image) (2.23.0)\n",
            "Requirement already satisfied: idna<3,>=2.5 in /usr/local/lib/python3.7/dist-packages (from requests>=2.19.1->python-resize-image) (2.10)\n",
            "Requirement already satisfied: certifi>=2017.4.17 in /usr/local/lib/python3.7/dist-packages (from requests>=2.19.1->python-resize-image) (2020.12.5)\n",
            "Requirement already satisfied: chardet<4,>=3.0.2 in /usr/local/lib/python3.7/dist-packages (from requests>=2.19.1->python-resize-image) (3.0.4)\n",
            "Requirement already satisfied: urllib3!=1.25.0,!=1.25.1,<1.26,>=1.21.1 in /usr/local/lib/python3.7/dist-packages (from requests>=2.19.1->python-resize-image) (1.24.3)\n"
          ],
          "name": "stdout"
        }
      ]
    },
    {
      "cell_type": "markdown",
      "metadata": {
        "id": "atMgO-R8Pfxj"
      },
      "source": [
        "## Tensorflow & GPU Check"
      ]
    },
    {
      "cell_type": "code",
      "metadata": {
        "id": "avPQhgDBPhQc",
        "colab": {
          "base_uri": "https://localhost:8080/"
        },
        "outputId": "93b3d490-0348-4b91-f3cd-aa5ef335005c"
      },
      "source": [
        "%tensorflow_version 1.x\n",
        "import tensorflow as tf\n",
        "import os\n",
        "\n",
        "# Verify if repo has been cloned\n",
        "print(\"List directory\")\n",
        "!ls /content/stylegan2\n",
        "print(\"\\n\")\n",
        "\n",
        "# Make sure you use tensoflow version 1\n",
        "print('Tensorflow version: {}'.format(tf.__version__) )\n",
        "\n",
        "# Use '%' prefix in colab or run this in command line\n",
        "%cd /content/stylegan2\n",
        "\n",
        "# Test if CPU, GPU, and Tensorflow is recognized\n",
        "!nvcc test_nvcc.cu -o test_nvcc -run\n",
        "print('Tensorflow version: {}'.format(tf.__version__) )\n",
        "!nvidia-smi -L\n",
        "print('GPU Identified at: {}'.format(tf.test.gpu_device_name()))"
      ],
      "execution_count": null,
      "outputs": [
        {
          "output_type": "stream",
          "text": [
            "List directory\n",
            "datasets\t\t     network-snapshot-000160.pkl  run_metrics.py\n",
            "dataset_tool.py\t\t     network-snapshot-000320.pkl  run_projector.py\n",
            "dnnlib\t\t\t     network-snapshot-000480.pkl  run_training.py\n",
            "Dockerfile\t\t     pretrained_networks.py\t  stylegan2\n",
            "docs\t\t\t     projector.py\t\t  StyleGan2_v17.ipynb\n",
            "LICENSE.txt\t\t     __pycache__\t\t  test_nvcc\n",
            "metrics\t\t\t     README.md\t\t\t  test_nvcc.cu\n",
            "network-snapshot-000000.pkl  run_generator.py\t\t  training\n",
            "\n",
            "\n",
            "Tensorflow version: 1.15.2\n",
            "/content/stylegan2\n",
            "CPU says hello.\n",
            "GPU says hello.\n",
            "Tensorflow version: 1.15.2\n",
            "GPU 0: Tesla P100-PCIE-16GB (UUID: GPU-6336fdca-2528-7260-147f-8b1faaf03aa9)\n",
            "GPU Identified at: /device:GPU:0\n"
          ],
          "name": "stdout"
        }
      ]
    },
    {
      "cell_type": "markdown",
      "metadata": {
        "id": "X-uVEU2zi1FT"
      },
      "source": [
        "## Extract Custom Dataset from G Drive to Colab"
      ]
    },
    {
      "cell_type": "code",
      "metadata": {
        "id": "9opcWxcZi599",
        "colab": {
          "base_uri": "https://localhost:8080/"
        },
        "outputId": "24833f81-d799-465c-ef69-2aafcb586c10"
      },
      "source": [
        "# Run once\n",
        "## There are 63565 images/seeds\n",
        "!unrar x \"/content/drive/MyDrive/Colab Notebooks/animeDataset.rar\" \"/content/custom_data/\""
      ],
      "execution_count": null,
      "outputs": [
        {
          "output_type": "stream",
          "text": [
            "\n",
            "UNRAR 5.50 freeware      Copyright (c) 1993-2017 Alexander Roshal\n",
            "\n",
            "\n",
            "Extracting from /content/drive/MyDrive/Colab Notebooks/animeDataset.rar\n",
            "\n",
            "\n",
            "Would you like to replace the existing file /content/custom_data/images/0_2000.jpg\n",
            "  1980 bytes, modified on 2021-04-28 21:33\n",
            "with a new one\n",
            "  3611 bytes, modified on 2019-10-13 23:40\n",
            "\n",
            "[Y]es, [N]o, [A]ll, n[E]ver, [R]ename, [Q]uit q\n",
            "\n",
            "Program aborted\n"
          ],
          "name": "stdout"
        }
      ]
    },
    {
      "cell_type": "markdown",
      "metadata": {
        "id": "KedekrwNTgCl"
      },
      "source": [
        "## Resize Images to prep for Training"
      ]
    },
    {
      "cell_type": "code",
      "metadata": {
        "id": "33BYb6KtTfpQ",
        "colab": {
          "base_uri": "https://localhost:8080/",
          "height": 1000
        },
        "outputId": "b9dd58f5-2670-4d1e-e529-0f7f23415956"
      },
      "source": [
        "import dnnlib\n",
        "import dnnlib.tflib as tflib\n",
        "import PIL.Image\n",
        "from PIL import Image\n",
        "from tqdm import tqdm\n",
        "import cv2\n",
        "from resizeimage import resizeimage\n",
        "\n",
        "# From the custom dataset\n",
        "path = '/content/custom_data/images/'\n",
        "for filename in tqdm(os.listdir(path), desc='reading images...'):\n",
        "  image = Image.open(path+filename)\n",
        "  image = image.resize((64, 64))\n",
        "  image.save(path+filename, image.format)"
      ],
      "execution_count": null,
      "outputs": [
        {
          "output_type": "stream",
          "text": [
            "reading images...:  56%|█████▌    | 35374/63565 [00:18<00:13, 2016.18it/s]ERROR:root:Internal Python error in the inspect module.\n",
            "Below is the traceback from this internal error.\n",
            "\n"
          ],
          "name": "stderr"
        },
        {
          "output_type": "stream",
          "text": [
            "Traceback (most recent call last):\n",
            "  File \"/usr/local/lib/python3.7/dist-packages/IPython/core/interactiveshell.py\", line 2882, in run_code\n",
            "    exec(code_obj, self.user_global_ns, self.user_ns)\n",
            "  File \"<ipython-input-28-be60b72131ed>\", line 13, in <module>\n",
            "    image = image.resize((64, 64))\n",
            "  File \"/usr/local/lib/python3.7/dist-packages/PIL/Image.py\", line 1876, in resize\n",
            "    return self.copy()\n",
            "  File \"/usr/local/lib/python3.7/dist-packages/PIL/Image.py\", line 1112, in copy\n",
            "    self.load()\n",
            "  File \"/usr/local/lib/python3.7/dist-packages/PIL/ImageFile.py\", line 251, in load\n",
            "    n, err_code = decoder.decode(b)\n",
            "KeyboardInterrupt\n",
            "\n",
            "During handling of the above exception, another exception occurred:\n",
            "\n",
            "Traceback (most recent call last):\n",
            "  File \"/usr/local/lib/python3.7/dist-packages/IPython/core/interactiveshell.py\", line 1823, in showtraceback\n",
            "    stb = value._render_traceback_()\n",
            "AttributeError: 'KeyboardInterrupt' object has no attribute '_render_traceback_'\n",
            "\n",
            "During handling of the above exception, another exception occurred:\n",
            "\n",
            "Traceback (most recent call last):\n",
            "  File \"/usr/local/lib/python3.7/dist-packages/IPython/core/ultratb.py\", line 1132, in get_records\n",
            "    return _fixed_getinnerframes(etb, number_of_lines_of_context, tb_offset)\n",
            "  File \"/usr/local/lib/python3.7/dist-packages/IPython/core/ultratb.py\", line 313, in wrapped\n",
            "    return f(*args, **kwargs)\n",
            "  File \"/usr/local/lib/python3.7/dist-packages/IPython/core/ultratb.py\", line 358, in _fixed_getinnerframes\n",
            "    records = fix_frame_records_filenames(inspect.getinnerframes(etb, context))\n",
            "  File \"/usr/lib/python3.7/inspect.py\", line 1502, in getinnerframes\n",
            "    frameinfo = (tb.tb_frame,) + getframeinfo(tb, context)\n",
            "  File \"/usr/lib/python3.7/inspect.py\", line 1460, in getframeinfo\n",
            "    filename = getsourcefile(frame) or getfile(frame)\n",
            "  File \"/usr/lib/python3.7/inspect.py\", line 696, in getsourcefile\n",
            "    if getattr(getmodule(object, filename), '__loader__', None) is not None:\n",
            "  File \"/usr/lib/python3.7/inspect.py\", line 733, in getmodule\n",
            "    if ismodule(module) and hasattr(module, '__file__'):\n",
            "  File \"/tensorflow-1.15.2/python3.7/tensorflow/__init__.py\", line 50, in __getattr__\n",
            "    module = self._load()\n",
            "  File \"/tensorflow-1.15.2/python3.7/tensorflow/__init__.py\", line 44, in _load\n",
            "    module = _importlib.import_module(self.__name__)\n",
            "  File \"/usr/lib/python3.7/importlib/__init__.py\", line 127, in import_module\n",
            "    return _bootstrap._gcd_import(name[level:], package, level)\n",
            "  File \"<frozen importlib._bootstrap>\", line 1006, in _gcd_import\n",
            "  File \"<frozen importlib._bootstrap>\", line 983, in _find_and_load\n",
            "  File \"<frozen importlib._bootstrap>\", line 967, in _find_and_load_unlocked\n",
            "  File \"<frozen importlib._bootstrap>\", line 677, in _load_unlocked\n",
            "  File \"<frozen importlib._bootstrap_external>\", line 728, in exec_module\n",
            "  File \"<frozen importlib._bootstrap>\", line 219, in _call_with_frames_removed\n",
            "  File \"/tensorflow-1.15.2/python3.7/tensorflow_core/contrib/__init__.py\", line 108, in <module>\n",
            "    from tensorflow.contrib import cloud\n",
            "  File \"/tensorflow-1.15.2/python3.7/tensorflow_core/contrib/cloud/__init__.py\", line 24, in <module>\n",
            "    from tensorflow.contrib.cloud.python.ops.bigquery_reader_ops import *\n",
            "  File \"/tensorflow-1.15.2/python3.7/tensorflow_core/contrib/cloud/__init__.py\", line 28, in <module>\n",
            "    from tensorflow.contrib.bigtable.python.ops.bigtable_api import BigtableClient\n",
            "  File \"/tensorflow-1.15.2/python3.7/tensorflow_core/contrib/bigtable/__init__.py\", line 29, in <module>\n",
            "    from tensorflow.contrib.bigtable.python.ops.bigtable_api import BigtableClient\n",
            "  File \"/tensorflow-1.15.2/python3.7/tensorflow_core/contrib/bigtable/python/ops/bigtable_api.py\", line 33, in <module>\n",
            "    from tensorflow.contrib.bigtable.ops import gen_bigtable_ops\n",
            "  File \"/tensorflow-1.15.2/python3.7/tensorflow_core/contrib/bigtable/ops/gen_bigtable_ops.py\", line 688, in <module>\n",
            "    BigtableScanDataset = _doc_controls.do_not_generate_docs(_kwarg_only(BigtableScanDataset))\n",
            "  File \"/tensorflow-1.15.2/python3.7/tensorflow_core/python/util/tf_export.py\", line 385, in kwarg_only\n",
            "    f_argspec = tf_inspect.getargspec(f)\n",
            "  File \"/tensorflow-1.15.2/python3.7/tensorflow_core/python/util/tf_inspect.py\", line 130, in getargspec\n",
            "    return _getargspec(target)\n",
            "  File \"/tensorflow-1.15.2/python3.7/tensorflow_core/python/util/tf_inspect.py\", line 71, in _getargspec\n",
            "    fullargspecs = getfullargspec(target)\n",
            "  File \"/tensorflow-1.15.2/python3.7/tensorflow_core/python/util/tf_inspect.py\", line 257, in getfullargspec\n",
            "    return _getfullargspec(target)\n",
            "  File \"/usr/lib/python3.7/inspect.py\", line 1126, in getfullargspec\n",
            "    sigcls=Signature)\n",
            "  File \"/usr/lib/python3.7/inspect.py\", line 2284, in _signature_from_callable\n",
            "    return _signature_from_function(sigcls, obj)\n",
            "  File \"/usr/lib/python3.7/inspect.py\", line 2161, in _signature_from_function\n",
            "    default=defaults[offset]))\n",
            "  File \"/usr/lib/python3.7/inspect.py\", line 2467, in __init__\n",
            "    def __init__(self, name, kind, *, default=_empty, annotation=_empty):\n",
            "KeyboardInterrupt\n"
          ],
          "name": "stdout"
        },
        {
          "output_type": "error",
          "ename": "KeyboardInterrupt",
          "evalue": "ignored",
          "traceback": [
            "\u001b[0;31m---------------------------------------------------------------------------\u001b[0m"
          ]
        }
      ]
    },
    {
      "cell_type": "markdown",
      "metadata": {
        "id": "TChxzSqAwgZs"
      },
      "source": [
        "## Convert Custom Images to tfrecords\n",
        "\n",
        "This is required for training the stylegan"
      ]
    },
    {
      "cell_type": "code",
      "metadata": {
        "id": "ScqfjxORxQMg"
      },
      "source": [
        "! python /content/stylegan2/dataset_tool.py create_from_images /content/stylegan2/datasets/anime-dataset /content/custom_data/images/"
      ],
      "execution_count": null,
      "outputs": []
    },
    {
      "cell_type": "markdown",
      "metadata": {
        "id": "OSr21cmeCpxM"
      },
      "source": [
        "# Train Dataset & Create Models\n",
        "### This usually takes the longest\n",
        "### Based on total kimg (iterations or epochs): The higher kimg, the longer it takes for the model to train\n",
        "\n",
        "#### Current training: 480 iterations"
      ]
    },
    {
      "cell_type": "code",
      "metadata": {
        "id": "XN4jIE2uCsr9"
      },
      "source": [
        "# Recommended to go 10000 kimg for better results\n",
        "! python /content/stylegan2/run_training.py --num-gpus=1 --data-dir=/content/stylegan2/datasets --config=config-f --dataset=anime-dataset --result-dir=/content/results --metrics=None --total-kimg=1000 #--mirror-augment=true "
      ],
      "execution_count": null,
      "outputs": []
    },
    {
      "cell_type": "markdown",
      "metadata": {
        "id": "cQ0HJyXRb3wh"
      },
      "source": [
        "# Using generated model\n",
        "## Get pretrained model from personal drive\n",
        "### I was only able to iterate around 400 kimg/epochs"
      ]
    },
    {
      "cell_type": "code",
      "metadata": {
        "id": "0O2ESbeDb7NB"
      },
      "source": [
        "!cp '/content/drive/MyDrive/Colab Notebooks/pretrained-models/network-snapshot-000000.pkl' .\n",
        "!cp '/content/drive/MyDrive/Colab Notebooks/pretrained-models/network-snapshot-000160.pkl' .\n",
        "!cp '/content/drive/MyDrive/Colab Notebooks/pretrained-models/network-snapshot-000320.pkl' .\n",
        "!cp '/content/drive/MyDrive/Colab Notebooks/pretrained-models/network-snapshot-000480.pkl' ."
      ],
      "execution_count": null,
      "outputs": []
    },
    {
      "cell_type": "markdown",
      "metadata": {
        "id": "ZQ6rWo6YB97y"
      },
      "source": [
        "## Project Generated & Real Images\n",
        "### Get trained model"
      ]
    },
    {
      "cell_type": "code",
      "metadata": {
        "id": "b7fn6na2B__6"
      },
      "source": [
        "! python /content/stylegan2/run_projector.py project-generated-images --network=/content/stylegan2/network-snapshot-000480.pkl --seeds=1,3,5 "
      ],
      "execution_count": null,
      "outputs": []
    },
    {
      "cell_type": "markdown",
      "metadata": {
        "id": "xwhpglRZCxXl"
      },
      "source": [
        "## Generate Random images without truncation"
      ]
    },
    {
      "cell_type": "code",
      "metadata": {
        "id": "ZNzxT1wvDIL0"
      },
      "source": [
        "# Generate results from training\n",
        "! python /content/stylegan2/run_generator.py generate-images --seeds=0-49 --network=/content/stylegan2/network-snapshot-000480.pkl"
      ],
      "execution_count": null,
      "outputs": []
    },
    {
      "cell_type": "markdown",
      "metadata": {
        "id": "2wa4ztvGkS-Y"
      },
      "source": [
        "## Display images setup"
      ]
    },
    {
      "cell_type": "code",
      "metadata": {
        "id": "eNHHITVkkV5e"
      },
      "source": [
        "import pretrained_networks\n",
        "network_pkl = '/content/stylegan2/network-snapshot-000480.pkl'\n",
        "\n",
        "_G, _D, Gs = pretrained_networks.load_networks(network_pkl)"
      ],
      "execution_count": null,
      "outputs": []
    },
    {
      "cell_type": "markdown",
      "metadata": {
        "id": "pr8_ce5YSYzd"
      },
      "source": [
        "## Generate Random Vectors"
      ]
    },
    {
      "cell_type": "code",
      "metadata": {
        "id": "KrBbhbjgTVjW"
      },
      "source": [
        "import numpy as np\n",
        "\n",
        "def generate_zs_from_seeds(seeds):\n",
        "    zs = []\n",
        "    for seed_idx, seed in enumerate(seeds):\n",
        "        rnd = np.random.RandomState(seed)\n",
        "        z = rnd.randn(1, *Gs.input_shape[1:])\n",
        "        zs.append(z)\n",
        "    return zs"
      ],
      "execution_count": null,
      "outputs": []
    },
    {
      "cell_type": "markdown",
      "metadata": {
        "id": "Bu3ct2tfmIPK"
      },
      "source": [
        "## Helper Functions to display results"
      ]
    },
    {
      "cell_type": "code",
      "metadata": {
        "id": "K79QocjJmLx_"
      },
      "source": [
        "import dnnlib\n",
        "import dnnlib.tflib as tflib\n",
        "import PIL.Image\n",
        "from tqdm import tqdm\n",
        "\n",
        "# Get tf noise variables, for the stochastic variation\n",
        "noise_vars = [var for name, var in Gs.components.synthesis.vars.items() if name.startswith('noise')]\n",
        "\n",
        "# Trunctation psi value needed for the truncation trick\n",
        "def generate_images(zs, truncation_psi):\n",
        "    Gs_kwargs = dnnlib.EasyDict()\n",
        "    Gs_kwargs.output_transform = dict(func=tflib.convert_images_to_uint8, nchw_to_nhwc=True)\n",
        "    Gs_kwargs.randomize_noise = False\n",
        "    if not isinstance(truncation_psi, list):\n",
        "        truncation_psi = [truncation_psi] * len(zs)\n",
        "        \n",
        "    imgs = []\n",
        "    for z_idx, z in tqdm(enumerate(zs)):\n",
        "        Gs_kwargs.truncation_psi = truncation_psi[z_idx]\n",
        "        noise_rnd = np.random.RandomState(1) # fix noise\n",
        "        tflib.set_vars({var: noise_rnd.randn(*var.shape.as_list()) for var in noise_vars}) # [height, width]\n",
        "        images = Gs.run(z, None, **Gs_kwargs) # [minibatch, height, width, channel]\n",
        "        imgs.append(PIL.Image.fromarray(images[0], 'RGB'))\n",
        "        \n",
        "    # Return array of PIL.Image\n",
        "    return imgs\n",
        "\n",
        "def generate_images_from_seeds(seeds, truncation_psi):\n",
        "    return generate_images(generate_zs_from_seeds(seeds), truncation_psi)"
      ],
      "execution_count": null,
      "outputs": []
    },
    {
      "cell_type": "markdown",
      "metadata": {
        "id": "ne_zVlrCTmoL"
      },
      "source": [
        "### Pre-Trained Results"
      ]
    },
    {
      "cell_type": "code",
      "metadata": {
        "id": "_lQnZVlaTs6b",
        "colab": {
          "base_uri": "https://localhost:8080/",
          "height": 149
        },
        "outputId": "4bd068d4-463b-4b4d-95a7-f020978af9ca"
      },
      "source": [
        "# generate 9 random seeds\n",
        "seeds = np.random.randint(1000000, size=9)\n",
        "print(seeds)\n",
        "\n",
        "zs = generate_zs_from_seeds(seeds)\n",
        "imgs = generate_images(zs, 0.5)\n",
        "imgs[0]"
      ],
      "execution_count": null,
      "outputs": [
        {
          "output_type": "stream",
          "text": [
            "\n",
            "0it [00:00, ?it/s]\u001b[A\n",
            "9it [00:00, 69.37it/s]"
          ],
          "name": "stderr"
        },
        {
          "output_type": "stream",
          "text": [
            "[884701 903213 762686 744311 806893 528663 518212 685724   7284]\n"
          ],
          "name": "stdout"
        },
        {
          "output_type": "stream",
          "text": [
            "\n"
          ],
          "name": "stderr"
        },
        {
          "output_type": "execute_result",
          "data": {
            "image/png": "[encoded data removed]",
            "text/plain": [
              "<PIL.Image.Image image mode=RGB size=64x64 at 0x7F69FCE50850>"
            ]
          },
          "metadata": {
            "tags": []
          },
          "execution_count": 54
        }
      ]
    },
    {
      "cell_type": "markdown",
      "metadata": {
        "id": "pMGh0L5qWYXx"
      },
      "source": [
        "## Pre-Trained Results Loop"
      ]
    },
    {
      "cell_type": "code",
      "metadata": {
        "colab": {
          "base_uri": "https://localhost:8080/",
          "height": 113
        },
        "id": "RADgyGwOWa_F",
        "outputId": "aa297d24-1026-47f9-9345-9bed5e813f57"
      },
      "source": [
        "from math import ceil\n",
        "\n",
        "def createImageGrid(images, scale=0.25, rows=1):\n",
        "  w, h = images[0].size\n",
        "  w = int(w * scale)\n",
        "  h = int(h * scale)\n",
        "  height = rows * h\n",
        "  cols = ceil(len(images) / rows)\n",
        "  width = cols * w\n",
        "  canvas = PIL.Image.new('RGBA', (width, height), 'white')\n",
        "\n",
        "  for i, img in enumerate(images):\n",
        "    img = img.resize((w, h), PIL.Image.ANTIALIAS)\n",
        "    canvas.paste(img, (w * (i % cols), h * (i // cols)))\n",
        "  \n",
        "  return canvas\n",
        "\n",
        "createImageGrid(imgs, scale=0.5 ,rows=3)"
      ],
      "execution_count": null,
      "outputs": [
        {
          "output_type": "execute_result",
          "data": {
            "image/png": "[encoded data removed]",
            "text/plain": [
              "<PIL.Image.Image image mode=RGBA size=96x96 at 0x7F69FCE50CD0>"
            ]
          },
          "metadata": {
            "tags": []
          },
          "execution_count": 55
        }
      ]
    },
    {
      "cell_type": "markdown",
      "metadata": {
        "id": "f7ohFiJSg3ud"
      },
      "source": [
        "## Interpolate between two values of the Z vectors\n"
      ]
    },
    {
      "cell_type": "code",
      "metadata": {
        "id": "UDs9KAghg3iP"
      },
      "source": [
        "def interpolate(zs, steps):\n",
        "  out = []\n",
        "  for i in range(len(zs) - 1):\n",
        "    for index in range(steps):\n",
        "      fraction = index / float(steps)\n",
        "      out.append(zs[i + 1] * fraction + zs[i] * (1 - fraction))\n",
        "  return out"
      ],
      "execution_count": null,
      "outputs": []
    },
    {
      "cell_type": "markdown",
      "metadata": {
        "id": "sMrdYeiPjZ7h"
      },
      "source": [
        "## Results of Interpolation"
      ]
    },
    {
      "cell_type": "code",
      "metadata": {
        "id": "dEd1taSJjdSr",
        "colab": {
          "base_uri": "https://localhost:8080/",
          "height": 100
        },
        "outputId": "f5b0d953-6261-45c9-ac27-cd0a53a07aa3"
      },
      "source": [
        "seeds = np.random.randint(10000000, size=3)\n",
        "zs = generate_zs_from_seeds(seeds)\n",
        "imgs = generate_images(interpolate(zs, 7), 0.5)\n",
        "createImageGrid(imgs, rows=2)"
      ],
      "execution_count": null,
      "outputs": [
        {
          "output_type": "stream",
          "text": [
            "\n",
            "0it [00:00, ?it/s]\u001b[A\n",
            "14it [00:00, 71.70it/s]\n"
          ],
          "name": "stderr"
        },
        {
          "output_type": "execute_result",
          "data": {
            "image/png": "[encoded data removed]",
            "text/plain": [
              "<PIL.Image.Image image mode=RGBA size=112x32 at 0x7F69FD319690>"
            ]
          },
          "metadata": {
            "tags": []
          },
          "execution_count": 35
        }
      ]
    },
    {
      "cell_type": "markdown",
      "metadata": {
        "id": "-QHhm0ymUCel"
      },
      "source": [
        "## Animation\n",
        "\n",
        "\n"
      ]
    },
    {
      "cell_type": "code",
      "metadata": {
        "id": "Q6pQ48k3UNf7",
        "colab": {
          "base_uri": "https://localhost:8080/",
          "height": 1000
        },
        "outputId": "4d227cb1-8d8a-464a-d3ae-76c51168d65a"
      },
      "source": [
        "import scipy\n",
        "import moviepy.editor\n",
        "\n",
        "grid_size = [3,3]\n",
        "duration_sec = 5\n",
        "smoothing_sec = 1.0\n",
        "image_zoom = 1\n",
        "fps = 15\n",
        "random_seed = np.random.randint(0, 10000)\n",
        "\n",
        "num_frames = int(np.rint(duration_sec * fps))\n",
        "random_state = np.random.RandomState(random_seed)\n",
        "\n",
        "# Generate latent vectors\n",
        "shape = [num_frames, np.prod(grid_size)] + Gs.input_shape[1:]\n",
        "all_latents = random_state.randn(*shape).astype(np.float32)\n",
        "all_latents = scipy.ndimage.gaussian_filter(all_latents, [smoothing_sec * fps] + [0] * len(Gs.input_shape), mode='wrap')\n",
        "all_latents /= np.sqrt(np.mean(np.square(all_latents)))\n",
        "\n",
        "def create_image_grid(images, grid_size=None):\n",
        "  assert images.ndim == 3 or images.ndim == 4\n",
        "  num, img_h, img_w, channels = images.shape\n",
        "\n",
        "  if grid_size is not None:\n",
        "    grid_w, grid_h = tuple(grid_size)\n",
        "  else:\n",
        "    grid_w = max(int(np.ceil(np.sqrt(num))), 1)\n",
        "    grid_h = max((num - 1) // grid_w + 1, 1)\n",
        "\n",
        "  grid = np.zeros([grid_h * img_h, grid_w * img_w, channels], dtype=images.dtype)\n",
        "  for idx in range(num):\n",
        "    x = (idx % grid_w) * img_w\n",
        "    y = (idx // grid_w) * img_h\n",
        "    grid[y : y + img_h, x : x + img_w] = images[idx]\n",
        "  return grid\n",
        "\n",
        "# Frame generation func for moviepy\n",
        "def make_frame(t):\n",
        "  frame_idx = int(np.clip(np.round(t * fps), 0, num_frames - 1))\n",
        "  latents = all_latents[frame_idx]\n",
        "  fmt = dict(func=tflib.convert_images_to_uint8, nchw_to_nhwc=True)\n",
        "  images = Gs.run(latents, None, truncation_psi=0.7,\n",
        "                  randomize_noise=False, output_transform=fmt,\n",
        "                  minibatch_size=16)\n",
        "  \n",
        "  grid = create_image_grid(images, grid_size)\n",
        "  if image_zoom > 1:\n",
        "    grid = scipy.ndimage.zoom(grid, [image_zoom, image_zoom, 1], order=0)\n",
        "  if grid.shape[2] == 1:\n",
        "    grid = grid.repeat(3, 2)\n",
        "  return grid\n",
        "\n",
        "# Generate the vid\n",
        "video_clip = moviepy.editor.VideoClip(make_frame, duration=duration_sec)\n",
        "\n",
        "video_clip.write_gif('random_grid_%s.gif' % random_seed, fps=fps)"
      ],
      "execution_count": null,
      "outputs": [
        {
          "output_type": "stream",
          "text": [
            "\n",
            "[MoviePy] Building file random_grid_541.gif with imageio\n"
          ],
          "name": "stdout"
        },
        {
          "output_type": "stream",
          "text": [
            "\n",
            "  0%|          | 0/76 [00:00<?, ?it/s]\u001b[A\n",
            "  1%|▏         | 1/76 [00:00<00:12,  5.83it/s]\u001b[A\n",
            "  3%|▎         | 2/76 [00:00<00:12,  5.87it/s]\u001b[A\n",
            "  4%|▍         | 3/76 [00:00<00:12,  5.93it/s]\u001b[A\n",
            "  5%|▌         | 4/76 [00:00<00:12,  6.00it/s]\u001b[A\n",
            "  7%|▋         | 5/76 [00:00<00:11,  6.04it/s]\u001b[A\n",
            "  8%|▊         | 6/76 [00:00<00:11,  6.07it/s]\u001b[A\n",
            "  9%|▉         | 7/76 [00:01<00:11,  6.08it/s]\u001b[A\n",
            " 11%|█         | 8/76 [00:01<00:11,  6.09it/s]\u001b[A\n",
            " 12%|█▏        | 9/76 [00:01<00:10,  6.10it/s]\u001b[A\n",
            " 13%|█▎        | 10/76 [00:01<00:10,  6.15it/s]\u001b[A\n",
            " 14%|█▍        | 11/76 [00:01<00:10,  6.13it/s]\u001b[A\n",
            " 16%|█▌        | 12/76 [00:01<00:10,  6.07it/s]\u001b[A\n",
            " 17%|█▋        | 13/76 [00:02<00:10,  6.11it/s]\u001b[A\n",
            " 18%|█▊        | 14/76 [00:02<00:10,  6.11it/s]\u001b[A\n",
            " 20%|█▉        | 15/76 [00:02<00:09,  6.13it/s]\u001b[A\n",
            " 21%|██        | 16/76 [00:02<00:09,  6.15it/s]\u001b[A\n",
            " 22%|██▏       | 17/76 [00:02<00:09,  6.12it/s]\u001b[A\n",
            " 24%|██▎       | 18/76 [00:02<00:09,  6.11it/s]\u001b[A\n",
            " 25%|██▌       | 19/76 [00:03<00:09,  6.15it/s]\u001b[A\n",
            " 26%|██▋       | 20/76 [00:03<00:09,  6.16it/s]\u001b[A\n",
            " 28%|██▊       | 21/76 [00:03<00:08,  6.19it/s]\u001b[A\n",
            " 29%|██▉       | 22/76 [00:03<00:08,  6.20it/s]\u001b[A\n",
            " 30%|███       | 23/76 [00:03<00:08,  6.17it/s]\u001b[A\n",
            " 32%|███▏      | 24/76 [00:03<00:08,  6.16it/s]\u001b[A\n",
            " 33%|███▎      | 25/76 [00:04<00:08,  6.14it/s]\u001b[A\n",
            " 34%|███▍      | 26/76 [00:04<00:08,  6.15it/s]\u001b[A\n",
            " 36%|███▌      | 27/76 [00:04<00:07,  6.15it/s]\u001b[A\n",
            " 37%|███▋      | 28/76 [00:04<00:07,  6.14it/s]\u001b[A\n",
            " 38%|███▊      | 29/76 [00:04<00:07,  6.16it/s]\u001b[A\n",
            " 39%|███▉      | 30/76 [00:04<00:07,  6.17it/s]\u001b[A\n",
            " 41%|████      | 31/76 [00:05<00:07,  6.14it/s]\u001b[A\n",
            " 42%|████▏     | 32/76 [00:05<00:07,  6.16it/s]\u001b[A\n",
            " 43%|████▎     | 33/76 [00:05<00:07,  6.08it/s]\u001b[A\n",
            " 45%|████▍     | 34/76 [00:05<00:06,  6.09it/s]\u001b[A\n",
            " 46%|████▌     | 35/76 [00:05<00:06,  6.12it/s]\u001b[A\n",
            " 47%|████▋     | 36/76 [00:05<00:06,  6.11it/s]\u001b[A\n",
            " 49%|████▊     | 37/76 [00:06<00:06,  6.09it/s]\u001b[A\n",
            " 50%|█████     | 38/76 [00:06<00:06,  6.10it/s]\u001b[A\n",
            " 51%|█████▏    | 39/76 [00:06<00:06,  6.12it/s]\u001b[A\n",
            " 53%|█████▎    | 40/76 [00:06<00:05,  6.14it/s]\u001b[A\n",
            " 54%|█████▍    | 41/76 [00:06<00:05,  6.12it/s]\u001b[A\n",
            " 55%|█████▌    | 42/76 [00:06<00:05,  6.11it/s]\u001b[A\n",
            " 57%|█████▋    | 43/76 [00:07<00:05,  6.10it/s]\u001b[A\n",
            " 58%|█████▊    | 44/76 [00:07<00:05,  6.02it/s]\u001b[A\n",
            " 59%|█████▉    | 45/76 [00:07<00:05,  6.03it/s]\u001b[A\n",
            " 61%|██████    | 46/76 [00:07<00:04,  6.04it/s]\u001b[A\n",
            " 62%|██████▏   | 47/76 [00:07<00:04,  6.05it/s]\u001b[A\n",
            " 63%|██████▎   | 48/76 [00:07<00:04,  6.03it/s]\u001b[A\n",
            " 64%|██████▍   | 49/76 [00:08<00:04,  6.03it/s]\u001b[A\n",
            " 66%|██████▌   | 50/76 [00:08<00:04,  5.97it/s]\u001b[A\n",
            " 67%|██████▋   | 51/76 [00:08<00:04,  5.94it/s]\u001b[A\n",
            " 68%|██████▊   | 52/76 [00:08<00:04,  5.91it/s]\u001b[A\n",
            " 70%|██████▉   | 53/76 [00:08<00:03,  5.91it/s]\u001b[A\n",
            " 71%|███████   | 54/76 [00:08<00:03,  5.89it/s]\u001b[A\n",
            " 72%|███████▏  | 55/76 [00:09<00:03,  5.87it/s]\u001b[A\n",
            " 74%|███████▎  | 56/76 [00:09<00:03,  5.87it/s]\u001b[A\n",
            " 75%|███████▌  | 57/76 [00:09<00:03,  5.84it/s]\u001b[A\n",
            " 76%|███████▋  | 58/76 [00:09<00:03,  5.77it/s]\u001b[A\n",
            " 78%|███████▊  | 59/76 [00:09<00:02,  5.83it/s]\u001b[A\n",
            " 79%|███████▉  | 60/76 [00:09<00:02,  5.90it/s]\u001b[A\n",
            " 80%|████████  | 61/76 [00:10<00:02,  5.93it/s]\u001b[A\n",
            " 82%|████████▏ | 62/76 [00:10<00:02,  5.92it/s]\u001b[A\n",
            " 83%|████████▎ | 63/76 [00:10<00:02,  5.84it/s]\u001b[A\n",
            " 84%|████████▍ | 64/76 [00:10<00:02,  5.86it/s]\u001b[A\n",
            " 86%|████████▌ | 65/76 [00:10<00:01,  5.88it/s]\u001b[A\n",
            " 87%|████████▋ | 66/76 [00:10<00:01,  5.92it/s]\u001b[A\n",
            " 88%|████████▊ | 67/76 [00:11<00:01,  5.91it/s]\u001b[A\n",
            " 89%|████████▉ | 68/76 [00:11<00:01,  5.95it/s]\u001b[A\n",
            " 91%|█████████ | 69/76 [00:11<00:01,  5.96it/s]\u001b[A\n",
            " 92%|█████████▏| 70/76 [00:11<00:01,  6.00it/s]\u001b[A\n",
            " 93%|█████████▎| 71/76 [00:11<00:00,  6.01it/s]\u001b[A\n",
            " 95%|█████████▍| 72/76 [00:11<00:00,  5.99it/s]\u001b[A\n",
            " 96%|█████████▌| 73/76 [00:12<00:00,  6.07it/s]\u001b[A\n",
            " 97%|█████████▋| 74/76 [00:12<00:00,  6.10it/s]\u001b[A\n",
            " 99%|█████████▊| 75/76 [00:12<00:00,  6.04it/s]\n"
          ],
          "name": "stderr"
        },
        {
          "output_type": "error",
          "ename": "AttributeError",
          "evalue": "ignored",
          "traceback": [
            "\u001b[0;31m---------------------------------------------------------------------------\u001b[0m",
            "\u001b[0;31mAttributeError\u001b[0m                            Traceback (most recent call last)",
            "\u001b[0;32m<ipython-input-53-2c878fb84bb8>\u001b[0m in \u001b[0;36m<module>\u001b[0;34m()\u001b[0m\n\u001b[1;32m     56\u001b[0m \u001b[0mvideo_clip\u001b[0m\u001b[0;34m.\u001b[0m\u001b[0mwrite_gif\u001b[0m\u001b[0;34m(\u001b[0m\u001b[0;34m'random_grid_%s.gif'\u001b[0m \u001b[0;34m%\u001b[0m \u001b[0mrandom_seed\u001b[0m\u001b[0;34m,\u001b[0m \u001b[0mfps\u001b[0m\u001b[0;34m=\u001b[0m\u001b[0mfps\u001b[0m\u001b[0;34m)\u001b[0m\u001b[0;34m\u001b[0m\u001b[0;34m\u001b[0m\u001b[0m\n\u001b[1;32m     57\u001b[0m \u001b[0;34m\u001b[0m\u001b[0m\n\u001b[0;32m---> 58\u001b[0;31m \u001b[0mvideo_clip\u001b[0m\u001b[0;34m.\u001b[0m\u001b[0mipython_display\u001b[0m\u001b[0;34m(\u001b[0m\u001b[0;34m)\u001b[0m\u001b[0;34m\u001b[0m\u001b[0;34m\u001b[0m\u001b[0m\n\u001b[0m",
            "\u001b[0;32m/usr/local/lib/python3.7/dist-packages/moviepy/video/io/html_tools.py\u001b[0m in \u001b[0;36mipython_display\u001b[0;34m(clip, filetype, maxduration, t, fps, rd_kwargs, center, **html_kwargs)\u001b[0m\n\u001b[1;32m    217\u001b[0m \u001b[0;34m\u001b[0m\u001b[0m\n\u001b[1;32m    218\u001b[0m     return HTML2(html_embed(clip, filetype=filetype, maxduration=maxduration,\n\u001b[0;32m--> 219\u001b[0;31m                 center=center, rd_kwargs=rd_kwargs, **html_kwargs))\n\u001b[0m",
            "\u001b[0;32m/usr/local/lib/python3.7/dist-packages/moviepy/video/io/html_tools.py\u001b[0m in \u001b[0;36mhtml_embed\u001b[0;34m(clip, filetype, maxduration, rd_kwargs, center, **html_kwargs)\u001b[0m\n\u001b[1;32m     95\u001b[0m             \u001b[0mkwargs\u001b[0m \u001b[0;34m=\u001b[0m \u001b[0;34m{\u001b[0m\u001b[0;34m'filename'\u001b[0m\u001b[0;34m:\u001b[0m\u001b[0mfilename\u001b[0m\u001b[0;34m,\u001b[0m \u001b[0;34m'verbose'\u001b[0m\u001b[0;34m:\u001b[0m\u001b[0;32mFalse\u001b[0m\u001b[0;34m,\u001b[0m \u001b[0;34m'preset'\u001b[0m\u001b[0;34m:\u001b[0m\u001b[0;34m'ultrafast'\u001b[0m\u001b[0;34m}\u001b[0m\u001b[0;34m\u001b[0m\u001b[0;34m\u001b[0m\u001b[0m\n\u001b[1;32m     96\u001b[0m             \u001b[0mkwargs\u001b[0m\u001b[0;34m.\u001b[0m\u001b[0mupdate\u001b[0m\u001b[0;34m(\u001b[0m\u001b[0mrd_kwargs\u001b[0m\u001b[0;34m)\u001b[0m\u001b[0;34m\u001b[0m\u001b[0;34m\u001b[0m\u001b[0m\n\u001b[0;32m---> 97\u001b[0;31m             \u001b[0mclip\u001b[0m\u001b[0;34m.\u001b[0m\u001b[0mwrite_videofile\u001b[0m\u001b[0;34m(\u001b[0m\u001b[0;34m**\u001b[0m\u001b[0mkwargs\u001b[0m\u001b[0;34m)\u001b[0m\u001b[0;34m\u001b[0m\u001b[0;34m\u001b[0m\u001b[0m\n\u001b[0m\u001b[1;32m     98\u001b[0m         \u001b[0;32melif\u001b[0m \u001b[0misinstance\u001b[0m\u001b[0;34m(\u001b[0m\u001b[0mclip\u001b[0m\u001b[0;34m,\u001b[0m\u001b[0mAudioClip\u001b[0m\u001b[0;34m)\u001b[0m\u001b[0;34m:\u001b[0m\u001b[0;34m\u001b[0m\u001b[0;34m\u001b[0m\u001b[0m\n\u001b[1;32m     99\u001b[0m             \u001b[0mfilename\u001b[0m \u001b[0;34m=\u001b[0m \u001b[0mTEMP_PREFIX\u001b[0m\u001b[0;34m+\u001b[0m\u001b[0;34m\".mp3\"\u001b[0m\u001b[0;34m\u001b[0m\u001b[0;34m\u001b[0m\u001b[0m\n",
            "\u001b[0;32m<decorator-gen-165>\u001b[0m in \u001b[0;36mwrite_videofile\u001b[0;34m(self, filename, fps, codec, bitrate, audio, audio_fps, preset, audio_nbytes, audio_codec, audio_bitrate, audio_bufsize, temp_audiofile, rewrite_audio, remove_temp, write_logfile, verbose, threads, ffmpeg_params, progress_bar)\u001b[0m\n",
            "\u001b[0;32m/usr/local/lib/python3.7/dist-packages/moviepy/decorators.py\u001b[0m in \u001b[0;36mrequires_duration\u001b[0;34m(f, clip, *a, **k)\u001b[0m\n\u001b[1;32m     52\u001b[0m         \u001b[0;32mraise\u001b[0m \u001b[0mValueError\u001b[0m\u001b[0;34m(\u001b[0m\u001b[0;34m\"Attribute 'duration' not set\"\u001b[0m\u001b[0;34m)\u001b[0m\u001b[0;34m\u001b[0m\u001b[0;34m\u001b[0m\u001b[0m\n\u001b[1;32m     53\u001b[0m     \u001b[0;32melse\u001b[0m\u001b[0;34m:\u001b[0m\u001b[0;34m\u001b[0m\u001b[0;34m\u001b[0m\u001b[0m\n\u001b[0;32m---> 54\u001b[0;31m         \u001b[0;32mreturn\u001b[0m \u001b[0mf\u001b[0m\u001b[0;34m(\u001b[0m\u001b[0mclip\u001b[0m\u001b[0;34m,\u001b[0m \u001b[0;34m*\u001b[0m\u001b[0ma\u001b[0m\u001b[0;34m,\u001b[0m \u001b[0;34m**\u001b[0m\u001b[0mk\u001b[0m\u001b[0;34m)\u001b[0m\u001b[0;34m\u001b[0m\u001b[0;34m\u001b[0m\u001b[0m\n\u001b[0m\u001b[1;32m     55\u001b[0m \u001b[0;34m\u001b[0m\u001b[0m\n\u001b[1;32m     56\u001b[0m \u001b[0;34m\u001b[0m\u001b[0m\n",
            "\u001b[0;32m<decorator-gen-164>\u001b[0m in \u001b[0;36mwrite_videofile\u001b[0;34m(self, filename, fps, codec, bitrate, audio, audio_fps, preset, audio_nbytes, audio_codec, audio_bitrate, audio_bufsize, temp_audiofile, rewrite_audio, remove_temp, write_logfile, verbose, threads, ffmpeg_params, progress_bar)\u001b[0m\n",
            "\u001b[0;32m/usr/local/lib/python3.7/dist-packages/moviepy/decorators.py\u001b[0m in \u001b[0;36muse_clip_fps_by_default\u001b[0;34m(f, clip, *a, **k)\u001b[0m\n\u001b[1;32m    131\u001b[0m \u001b[0;34m\u001b[0m\u001b[0m\n\u001b[1;32m    132\u001b[0m     new_a = [fun(arg) if (name=='fps') else arg\n\u001b[0;32m--> 133\u001b[0;31m              for (arg, name) in zip(a, names)]\n\u001b[0m\u001b[1;32m    134\u001b[0m     new_kw = {k: fun(v) if k=='fps' else v\n\u001b[1;32m    135\u001b[0m              for (k,v) in k.items()}\n",
            "\u001b[0;32m/usr/local/lib/python3.7/dist-packages/moviepy/decorators.py\u001b[0m in \u001b[0;36m<listcomp>\u001b[0;34m(.0)\u001b[0m\n\u001b[1;32m    131\u001b[0m \u001b[0;34m\u001b[0m\u001b[0m\n\u001b[1;32m    132\u001b[0m     new_a = [fun(arg) if (name=='fps') else arg\n\u001b[0;32m--> 133\u001b[0;31m              for (arg, name) in zip(a, names)]\n\u001b[0m\u001b[1;32m    134\u001b[0m     new_kw = {k: fun(v) if k=='fps' else v\n\u001b[1;32m    135\u001b[0m              for (k,v) in k.items()}\n",
            "\u001b[0;32m/usr/local/lib/python3.7/dist-packages/moviepy/decorators.py\u001b[0m in \u001b[0;36mfun\u001b[0;34m(fps)\u001b[0m\n\u001b[1;32m    120\u001b[0m                 \u001b[0;34m\" for function %s and the clip has no 'fps' attribute. Either\"\u001b[0m\u001b[0;34m\u001b[0m\u001b[0;34m\u001b[0m\u001b[0m\n\u001b[1;32m    121\u001b[0m                 \u001b[0;34m\" provide e.g. fps=24 in the arguments of the function, or define\"\u001b[0m\u001b[0;34m\u001b[0m\u001b[0;34m\u001b[0m\u001b[0m\n\u001b[0;32m--> 122\u001b[0;31m                 \" the clip's fps with `clip.fps=24`\"%f.__name__)\n\u001b[0m\u001b[1;32m    123\u001b[0m \u001b[0;34m\u001b[0m\u001b[0m\n\u001b[1;32m    124\u001b[0m \u001b[0;34m\u001b[0m\u001b[0m\n",
            "\u001b[0;31mAttributeError\u001b[0m: No 'fps' (frames per second) attribute specified for function write_videofile and the clip has no 'fps' attribute. Either provide e.g. fps=24 in the arguments of the function, or define the clip's fps with `clip.fps=24`"
          ]
        }
      ]
    }
  ]
}